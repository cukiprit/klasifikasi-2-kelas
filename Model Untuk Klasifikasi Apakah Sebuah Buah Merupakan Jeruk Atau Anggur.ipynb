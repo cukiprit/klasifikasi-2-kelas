{
  "nbformat": 4,
  "nbformat_minor": 0,
  "metadata": {
    "colab": {
      "name": "Model Untuk Klasifikasi Apakah Sebuah Buah Merupakan Jeruk Atau Anggur.ipynb",
      "provenance": [],
      "collapsed_sections": []
    },
    "kernelspec": {
      "name": "python3",
      "display_name": "Python 3"
    },
    "language_info": {
      "name": "python"
    }
  },
  "cells": [
    {
      "cell_type": "markdown",
      "metadata": {
        "id": "Ho1CXonCR53Z"
      },
      "source": [
        "**Membuat Model Untuk Klasifikasi Dua Kelas**"
      ]
    },
    {
      "cell_type": "markdown",
      "metadata": {
        "id": "BA985CCBSCGn"
      },
      "source": [
        "Saya akan mencoba melatih model untuk mengklasifikasikan apakah sebuah buah merupakan jeruk atau anggur"
      ]
    },
    {
      "cell_type": "markdown",
      "metadata": {
        "id": "ZeAvTJCiSSGh"
      },
      "source": [
        "pertama-tama kita import library pandas untuk mengextract dataset menjadi dataframe"
      ]
    },
    {
      "cell_type": "code",
      "metadata": {
        "id": "NdHoR1BTSRIv"
      },
      "source": [
        "import pandas as pd\n",
        "\n",
        "df = pd.read_csv('citrus.csv')"
      ],
      "execution_count": 1,
      "outputs": []
    },
    {
      "cell_type": "markdown",
      "metadata": {
        "id": "9UgzgCbvWtN5"
      },
      "source": [
        "Untuk melihat overview dataset kita bisa menggunakan fungsi info()"
      ]
    },
    {
      "cell_type": "code",
      "metadata": {
        "colab": {
          "base_uri": "https://localhost:8080/"
        },
        "id": "xBLypMGHWqFe",
        "outputId": "1ea99a41-eb66-496e-fdbf-dd61a58ad829"
      },
      "source": [
        "df.info()"
      ],
      "execution_count": 2,
      "outputs": [
        {
          "output_type": "stream",
          "text": [
            "<class 'pandas.core.frame.DataFrame'>\n",
            "RangeIndex: 10000 entries, 0 to 9999\n",
            "Data columns (total 6 columns):\n",
            " #   Column    Non-Null Count  Dtype  \n",
            "---  ------    --------------  -----  \n",
            " 0   name      10000 non-null  object \n",
            " 1   diameter  10000 non-null  float64\n",
            " 2   weight    10000 non-null  float64\n",
            " 3   red       10000 non-null  int64  \n",
            " 4   green     10000 non-null  int64  \n",
            " 5   blue      10000 non-null  int64  \n",
            "dtypes: float64(2), int64(3), object(1)\n",
            "memory usage: 468.9+ KB\n"
          ],
          "name": "stdout"
        }
      ]
    },
    {
      "cell_type": "markdown",
      "metadata": {
        "id": "d3GQi9RIW67J"
      },
      "source": [
        "untuk menampilkan dataframe kita bisa menggunakan fungsi head()"
      ]
    },
    {
      "cell_type": "code",
      "metadata": {
        "colab": {
          "base_uri": "https://localhost:8080/",
          "height": 419
        },
        "id": "nq5_q9lBXGpa",
        "outputId": "579381ed-0728-499e-feb0-0c58e848f127"
      },
      "source": [
        "df.head(10000)"
      ],
      "execution_count": 4,
      "outputs": [
        {
          "output_type": "execute_result",
          "data": {
            "text/html": [
              "<div>\n",
              "<style scoped>\n",
              "    .dataframe tbody tr th:only-of-type {\n",
              "        vertical-align: middle;\n",
              "    }\n",
              "\n",
              "    .dataframe tbody tr th {\n",
              "        vertical-align: top;\n",
              "    }\n",
              "\n",
              "    .dataframe thead th {\n",
              "        text-align: right;\n",
              "    }\n",
              "</style>\n",
              "<table border=\"1\" class=\"dataframe\">\n",
              "  <thead>\n",
              "    <tr style=\"text-align: right;\">\n",
              "      <th></th>\n",
              "      <th>name</th>\n",
              "      <th>diameter</th>\n",
              "      <th>weight</th>\n",
              "      <th>red</th>\n",
              "      <th>green</th>\n",
              "      <th>blue</th>\n",
              "    </tr>\n",
              "  </thead>\n",
              "  <tbody>\n",
              "    <tr>\n",
              "      <th>0</th>\n",
              "      <td>orange</td>\n",
              "      <td>2.96</td>\n",
              "      <td>86.76</td>\n",
              "      <td>172</td>\n",
              "      <td>85</td>\n",
              "      <td>2</td>\n",
              "    </tr>\n",
              "    <tr>\n",
              "      <th>1</th>\n",
              "      <td>orange</td>\n",
              "      <td>3.91</td>\n",
              "      <td>88.05</td>\n",
              "      <td>166</td>\n",
              "      <td>78</td>\n",
              "      <td>3</td>\n",
              "    </tr>\n",
              "    <tr>\n",
              "      <th>2</th>\n",
              "      <td>orange</td>\n",
              "      <td>4.42</td>\n",
              "      <td>95.17</td>\n",
              "      <td>156</td>\n",
              "      <td>81</td>\n",
              "      <td>2</td>\n",
              "    </tr>\n",
              "    <tr>\n",
              "      <th>3</th>\n",
              "      <td>orange</td>\n",
              "      <td>4.47</td>\n",
              "      <td>95.60</td>\n",
              "      <td>163</td>\n",
              "      <td>81</td>\n",
              "      <td>4</td>\n",
              "    </tr>\n",
              "    <tr>\n",
              "      <th>4</th>\n",
              "      <td>orange</td>\n",
              "      <td>4.48</td>\n",
              "      <td>95.76</td>\n",
              "      <td>161</td>\n",
              "      <td>72</td>\n",
              "      <td>9</td>\n",
              "    </tr>\n",
              "    <tr>\n",
              "      <th>...</th>\n",
              "      <td>...</td>\n",
              "      <td>...</td>\n",
              "      <td>...</td>\n",
              "      <td>...</td>\n",
              "      <td>...</td>\n",
              "      <td>...</td>\n",
              "    </tr>\n",
              "    <tr>\n",
              "      <th>9995</th>\n",
              "      <td>grapefruit</td>\n",
              "      <td>15.35</td>\n",
              "      <td>253.89</td>\n",
              "      <td>149</td>\n",
              "      <td>77</td>\n",
              "      <td>20</td>\n",
              "    </tr>\n",
              "    <tr>\n",
              "      <th>9996</th>\n",
              "      <td>grapefruit</td>\n",
              "      <td>15.41</td>\n",
              "      <td>254.67</td>\n",
              "      <td>148</td>\n",
              "      <td>68</td>\n",
              "      <td>7</td>\n",
              "    </tr>\n",
              "    <tr>\n",
              "      <th>9997</th>\n",
              "      <td>grapefruit</td>\n",
              "      <td>15.59</td>\n",
              "      <td>256.50</td>\n",
              "      <td>168</td>\n",
              "      <td>82</td>\n",
              "      <td>20</td>\n",
              "    </tr>\n",
              "    <tr>\n",
              "      <th>9998</th>\n",
              "      <td>grapefruit</td>\n",
              "      <td>15.92</td>\n",
              "      <td>260.14</td>\n",
              "      <td>142</td>\n",
              "      <td>72</td>\n",
              "      <td>11</td>\n",
              "    </tr>\n",
              "    <tr>\n",
              "      <th>9999</th>\n",
              "      <td>grapefruit</td>\n",
              "      <td>16.45</td>\n",
              "      <td>261.51</td>\n",
              "      <td>152</td>\n",
              "      <td>74</td>\n",
              "      <td>2</td>\n",
              "    </tr>\n",
              "  </tbody>\n",
              "</table>\n",
              "<p>10000 rows × 6 columns</p>\n",
              "</div>"
            ],
            "text/plain": [
              "            name  diameter  weight  red  green  blue\n",
              "0         orange      2.96   86.76  172     85     2\n",
              "1         orange      3.91   88.05  166     78     3\n",
              "2         orange      4.42   95.17  156     81     2\n",
              "3         orange      4.47   95.60  163     81     4\n",
              "4         orange      4.48   95.76  161     72     9\n",
              "...          ...       ...     ...  ...    ...   ...\n",
              "9995  grapefruit     15.35  253.89  149     77    20\n",
              "9996  grapefruit     15.41  254.67  148     68     7\n",
              "9997  grapefruit     15.59  256.50  168     82    20\n",
              "9998  grapefruit     15.92  260.14  142     72    11\n",
              "9999  grapefruit     16.45  261.51  152     74     2\n",
              "\n",
              "[10000 rows x 6 columns]"
            ]
          },
          "metadata": {
            "tags": []
          },
          "execution_count": 4
        }
      ]
    },
    {
      "cell_type": "markdown",
      "metadata": {
        "id": "KBcIpd-PXabj"
      },
      "source": [
        "Jaringan saraf tiruan tidak bisa memproses string, maka dari itu kita harus mengubah nilai-nilai pada kolom label numerik terlebih dahulu\n",
        "\n",
        "pada kode dibawah string 'orange' dirubah menjadi 0 dan 'grapefruit' dirubah menjadi 1"
      ]
    },
    {
      "cell_type": "code",
      "metadata": {
        "colab": {
          "base_uri": "https://localhost:8080/"
        },
        "id": "2TfRIaqxXzDE",
        "outputId": "cfe4873c-1ef5-4846-bc4d-bdcad342ac65"
      },
      "source": [
        "df.name[df.name == 'orange'] = 0\n",
        "df.name[df.name == 'grapefruit'] = 1"
      ],
      "execution_count": 5,
      "outputs": [
        {
          "output_type": "stream",
          "text": [
            "/usr/local/lib/python3.7/dist-packages/ipykernel_launcher.py:1: SettingWithCopyWarning: \n",
            "A value is trying to be set on a copy of a slice from a DataFrame\n",
            "\n",
            "See the caveats in the documentation: https://pandas.pydata.org/pandas-docs/stable/user_guide/indexing.html#returning-a-view-versus-a-copy\n",
            "  \"\"\"Entry point for launching an IPython kernel.\n",
            "/usr/local/lib/python3.7/dist-packages/ipykernel_launcher.py:2: SettingWithCopyWarning: \n",
            "A value is trying to be set on a copy of a slice from a DataFrame\n",
            "\n",
            "See the caveats in the documentation: https://pandas.pydata.org/pandas-docs/stable/user_guide/indexing.html#returning-a-view-versus-a-copy\n",
            "  \n"
          ],
          "name": "stderr"
        }
      ]
    },
    {
      "cell_type": "markdown",
      "metadata": {
        "id": "C7CAO49EYL3d"
      },
      "source": [
        "pada proses ini kita masih belum bisa memproses dataset, karena dataset kita masih dalam bentuk dataframe. Dataset harus dalam bentuk array agar dapat diproses oleh model"
      ]
    },
    {
      "cell_type": "code",
      "metadata": {
        "id": "XxC7JHbfYGhE"
      },
      "source": [
        "dataset = df.values"
      ],
      "execution_count": 7,
      "outputs": []
    },
    {
      "cell_type": "markdown",
      "metadata": {
        "id": "oNbrMh6eYcp4"
      },
      "source": [
        "Untuk melihat dataframe yang telah diubah menjadi array, kita bisa memanggil variabel tersebut"
      ]
    },
    {
      "cell_type": "code",
      "metadata": {
        "colab": {
          "base_uri": "https://localhost:8080/"
        },
        "id": "4QNVQ3UBYjwG",
        "outputId": "b114abc1-e959-4107-d357-c33ce95a4aa3"
      },
      "source": [
        "dataset"
      ],
      "execution_count": 8,
      "outputs": [
        {
          "output_type": "execute_result",
          "data": {
            "text/plain": [
              "array([[0, 2.96, 86.76, 172, 85, 2],\n",
              "       [0, 3.91, 88.05, 166, 78, 3],\n",
              "       [0, 4.42, 95.17, 156, 81, 2],\n",
              "       ...,\n",
              "       [1, 15.59, 256.5, 168, 82, 20],\n",
              "       [1, 15.92, 260.14, 142, 72, 11],\n",
              "       [1, 16.45, 261.51, 152, 74, 2]], dtype=object)"
            ]
          },
          "metadata": {
            "tags": []
          },
          "execution_count": 8
        }
      ]
    },
    {
      "cell_type": "markdown",
      "metadata": {
        "id": "-9lRHMGNZD9W"
      },
      "source": [
        "Kita perlu memisahkan antara atribut dan label pada dataset. Dapat diketahui 4 kolom terakhir adalah kolom atribut dan pada kolom pertama adalah label"
      ]
    },
    {
      "cell_type": "code",
      "metadata": {
        "id": "IH2VXg8LZR9i"
      },
      "source": [
        "# Pilih 4 kolom terakhir sebagai atribut\n",
        "\n",
        "X = dataset[:,1:6]\n",
        "\n",
        "# Bilangan sebelum koma untuk memilih baris pada dataframe\n",
        "# Bilangan setelah koma untuk memilih kolom pada dataframe\n",
        "\n",
        "y = dataset[:,0]"
      ],
      "execution_count": 9,
      "outputs": []
    },
    {
      "cell_type": "markdown",
      "metadata": {
        "id": "3kdMnEuxZvUk"
      },
      "source": [
        "tahap yang penting dilakukan agar jaringan saraf tiruan bisa mempelajari dataset dengan baik adalah dengan normalisasi. Kita bisa menggunakan fungsi fit_transform() dari sebuah objek MinMaxScaler dari library preprocessing SKLearn untuk menormalisasi data"
      ]
    },
    {
      "cell_type": "code",
      "metadata": {
        "colab": {
          "base_uri": "https://localhost:8080/"
        },
        "id": "BZtX0IbnbGO1",
        "outputId": "5e7b0998-207a-4095-a481-6a86c2f62001"
      },
      "source": [
        "# Normalization\n",
        "\n",
        "from sklearn import preprocessing\n",
        "min_max_scaler = preprocessing.MinMaxScaler()\n",
        "X_scale = min_max_scaler.fit_transform(X)\n",
        "X_scale"
      ],
      "execution_count": 10,
      "outputs": [
        {
          "output_type": "execute_result",
          "data": {
            "text/plain": [
              "array([[0.        , 0.        , 0.74025974, 0.63529412, 0.        ],\n",
              "       [0.07042254, 0.00738197, 0.66233766, 0.55294118, 0.01851852],\n",
              "       [0.10822832, 0.04812589, 0.53246753, 0.58823529, 0.        ],\n",
              "       ...,\n",
              "       [0.93624907, 0.97133047, 0.68831169, 0.6       , 0.33333333],\n",
              "       [0.96071164, 0.99216023, 0.35064935, 0.48235294, 0.16666667],\n",
              "       [1.        , 1.        , 0.48051948, 0.50588235, 0.        ]])"
            ]
          },
          "metadata": {
            "tags": []
          },
          "execution_count": 10
        }
      ]
    },
    {
      "cell_type": "markdown",
      "metadata": {
        "id": "vQNzoL3SbkOf"
      },
      "source": [
        "Setelah atribut dan label terpisah, kita juga akan memisahkan kembali data kita menjadi data latih dan data uji untuk mengevaluasi kinerja model kita. Fungsi train_test_split dapat membantu kita untuk melakukan hal ini dengan mudah. Pada latihan ini kita akan menggunakan 30% dari seluruh data uji"
      ]
    },
    {
      "cell_type": "code",
      "metadata": {
        "id": "UApqKBmWb7v2"
      },
      "source": [
        "# Pisahkan data training dan testing\n",
        "\n",
        "from sklearn.model_selection import train_test_split\n",
        "\n",
        "X_train, X_test, Y_train, Y_test = train_test_split(X_scale, y, test_size=0.3)"
      ],
      "execution_count": 11,
      "outputs": []
    },
    {
      "cell_type": "markdown",
      "metadata": {
        "id": "ia2NQh8qcOTc"
      },
      "source": [
        "Dataset kini sudah dipisahkan ke dalam training dan test set. Karena tadi kita mengubah nilai-nilai pada kolom name menjadi bilangan numerik, artinya kita mengubah label menjadi tipe data boolean, maka kita perlu mengubah tipe data tersebut menjadi float32"
      ]
    },
    {
      "cell_type": "code",
      "metadata": {
        "id": "yzywCsoKchvO"
      },
      "source": [
        "import numpy as np\n",
        "\n",
        "Y_train = Y_train.astype(np.float32)\n",
        "Y_test = Y_test.astype(np.float32)"
      ],
      "execution_count": 12,
      "outputs": []
    },
    {
      "cell_type": "markdown",
      "metadata": {
        "id": "ANeIGMMOcwq3"
      },
      "source": [
        "Untuk model yang kita kembangkan adalah model sequential yang memiliki 3 buah layer. Activation function pada 2 layer pertama yang dapat digunakan adalah relu untuk latihan ini. Untuk layer terakhir, isi parameter unit isi dengan 1 di mana output dari jaringan saraf tiruan ktia merupakan satu buah bilangan numerik. Activation function pada layer terakhir dipilih sigmoid karena sigmoid memetakan probabilitas dari 0 sampai 1. Sigmoid cocok digunakan untuk masalah klasifikasi biner"
      ]
    },
    {
      "cell_type": "code",
      "metadata": {
        "id": "4LhEm1n5eCpm"
      },
      "source": [
        "from keras.models import Sequential\n",
        "from keras.layers import Dense\n",
        "\n",
        "model = Sequential([\n",
        "                    Dense(32, activation='relu', input_shape=(5,)),\n",
        "                    Dense(32, activation='relu'),\n",
        "                    Dense(1, activation='sigmoid')\n",
        "])"
      ],
      "execution_count": 13,
      "outputs": []
    },
    {
      "cell_type": "markdown",
      "metadata": {
        "id": "QAhUW0x-elzH"
      },
      "source": [
        "Setelah arsitektur dari jaringan saraf tiruan dibentuk, kita perlu menentukan optimizer dan loss function dari model kita. Untuk optimizer kita menggunakan stochastic gradient descent (sgd) yang cocok untuk dataset berukuran kecil dan untuk loss menggunakan 'binary_crossentropy'\n",
        "\n",
        "Selain itu kita akan menambahkan parameter accuracy agar menampilkan akurasi pada setiap proses pelatihan model"
      ]
    },
    {
      "cell_type": "code",
      "metadata": {
        "id": "zbgrt6RbfBFS"
      },
      "source": [
        "model.compile(\n",
        "    optimizer='sgd',\n",
        "    loss='binary_crossentropy',\n",
        "    metrics=['accuracy']\n",
        ")"
      ],
      "execution_count": 14,
      "outputs": []
    },
    {
      "cell_type": "markdown",
      "metadata": {
        "id": "EppgzFCafYhJ"
      },
      "source": [
        "Ketika semua sudah selesai kita bisa memulai pelatihan model"
      ]
    },
    {
      "cell_type": "code",
      "metadata": {
        "colab": {
          "base_uri": "https://localhost:8080/"
        },
        "id": "N9FqhT_GfdBI",
        "outputId": "d0269967-ee50-4c36-d3f2-03e57ee26b26"
      },
      "source": [
        "model.fit(X_train, Y_train, epochs=300)"
      ],
      "execution_count": 15,
      "outputs": [
        {
          "output_type": "stream",
          "text": [
            "Epoch 1/300\n",
            "219/219 [==============================] - 15s 1ms/step - loss: 0.6749 - accuracy: 0.7875\n",
            "Epoch 2/300\n",
            "219/219 [==============================] - 0s 1ms/step - loss: 0.6244 - accuracy: 0.9141\n",
            "Epoch 3/300\n",
            "219/219 [==============================] - 0s 1ms/step - loss: 0.5576 - accuracy: 0.9127\n",
            "Epoch 4/300\n",
            "219/219 [==============================] - 0s 1ms/step - loss: 0.4751 - accuracy: 0.9132\n",
            "Epoch 5/300\n",
            "219/219 [==============================] - 0s 1ms/step - loss: 0.3756 - accuracy: 0.9196\n",
            "Epoch 6/300\n",
            "219/219 [==============================] - 0s 1ms/step - loss: 0.3044 - accuracy: 0.9253\n",
            "Epoch 7/300\n",
            "219/219 [==============================] - 0s 1ms/step - loss: 0.2521 - accuracy: 0.9274\n",
            "Epoch 8/300\n",
            "219/219 [==============================] - 0s 1ms/step - loss: 0.2286 - accuracy: 0.9196\n",
            "Epoch 9/300\n",
            "219/219 [==============================] - 0s 1ms/step - loss: 0.2154 - accuracy: 0.9219\n",
            "Epoch 10/300\n",
            "219/219 [==============================] - 0s 1ms/step - loss: 0.1974 - accuracy: 0.9302\n",
            "Epoch 11/300\n",
            "219/219 [==============================] - 0s 1ms/step - loss: 0.1966 - accuracy: 0.9270\n",
            "Epoch 12/300\n",
            "219/219 [==============================] - 0s 1ms/step - loss: 0.1991 - accuracy: 0.9227\n",
            "Epoch 13/300\n",
            "219/219 [==============================] - 0s 1ms/step - loss: 0.1880 - accuracy: 0.9283\n",
            "Epoch 14/300\n",
            "219/219 [==============================] - 0s 1ms/step - loss: 0.1821 - accuracy: 0.9297\n",
            "Epoch 15/300\n",
            "219/219 [==============================] - 0s 1ms/step - loss: 0.1884 - accuracy: 0.9233\n",
            "Epoch 16/300\n",
            "219/219 [==============================] - 0s 1ms/step - loss: 0.1873 - accuracy: 0.9277\n",
            "Epoch 17/300\n",
            "219/219 [==============================] - 0s 1ms/step - loss: 0.1816 - accuracy: 0.9275\n",
            "Epoch 18/300\n",
            "219/219 [==============================] - 0s 1ms/step - loss: 0.1900 - accuracy: 0.9247\n",
            "Epoch 19/300\n",
            "219/219 [==============================] - 0s 1ms/step - loss: 0.1740 - accuracy: 0.9320\n",
            "Epoch 20/300\n",
            "219/219 [==============================] - 0s 1ms/step - loss: 0.1817 - accuracy: 0.9272\n",
            "Epoch 21/300\n",
            "219/219 [==============================] - 0s 1ms/step - loss: 0.1824 - accuracy: 0.9248\n",
            "Epoch 22/300\n",
            "219/219 [==============================] - 0s 1ms/step - loss: 0.1802 - accuracy: 0.9278\n",
            "Epoch 23/300\n",
            "219/219 [==============================] - 0s 1ms/step - loss: 0.1804 - accuracy: 0.9264\n",
            "Epoch 24/300\n",
            "219/219 [==============================] - 0s 1ms/step - loss: 0.1826 - accuracy: 0.9271\n",
            "Epoch 25/300\n",
            "219/219 [==============================] - 0s 1ms/step - loss: 0.1829 - accuracy: 0.9263\n",
            "Epoch 26/300\n",
            "219/219 [==============================] - 0s 1ms/step - loss: 0.1786 - accuracy: 0.9287\n",
            "Epoch 27/300\n",
            "219/219 [==============================] - 0s 1ms/step - loss: 0.1828 - accuracy: 0.9258\n",
            "Epoch 28/300\n",
            "219/219 [==============================] - 0s 1ms/step - loss: 0.1814 - accuracy: 0.9251\n",
            "Epoch 29/300\n",
            "219/219 [==============================] - 0s 1ms/step - loss: 0.1777 - accuracy: 0.9280\n",
            "Epoch 30/300\n",
            "219/219 [==============================] - 0s 1ms/step - loss: 0.1851 - accuracy: 0.9239\n",
            "Epoch 31/300\n",
            "219/219 [==============================] - 0s 1ms/step - loss: 0.1759 - accuracy: 0.9266\n",
            "Epoch 32/300\n",
            "219/219 [==============================] - 0s 1ms/step - loss: 0.1774 - accuracy: 0.9291\n",
            "Epoch 33/300\n",
            "219/219 [==============================] - 0s 1ms/step - loss: 0.1774 - accuracy: 0.9316\n",
            "Epoch 34/300\n",
            "219/219 [==============================] - 0s 1ms/step - loss: 0.1873 - accuracy: 0.9230\n",
            "Epoch 35/300\n",
            "219/219 [==============================] - 0s 1ms/step - loss: 0.1793 - accuracy: 0.9300\n",
            "Epoch 36/300\n",
            "219/219 [==============================] - 0s 1ms/step - loss: 0.1791 - accuracy: 0.9273\n",
            "Epoch 37/300\n",
            "219/219 [==============================] - 0s 1ms/step - loss: 0.1742 - accuracy: 0.9330\n",
            "Epoch 38/300\n",
            "219/219 [==============================] - 0s 1ms/step - loss: 0.1797 - accuracy: 0.9298\n",
            "Epoch 39/300\n",
            "219/219 [==============================] - 0s 1ms/step - loss: 0.1792 - accuracy: 0.9263\n",
            "Epoch 40/300\n",
            "219/219 [==============================] - 0s 1ms/step - loss: 0.1755 - accuracy: 0.9320\n",
            "Epoch 41/300\n",
            "219/219 [==============================] - 0s 1ms/step - loss: 0.1774 - accuracy: 0.9275\n",
            "Epoch 42/300\n",
            "219/219 [==============================] - 0s 1ms/step - loss: 0.1864 - accuracy: 0.9251\n",
            "Epoch 43/300\n",
            "219/219 [==============================] - 0s 1ms/step - loss: 0.1812 - accuracy: 0.9290\n",
            "Epoch 44/300\n",
            "219/219 [==============================] - 0s 1ms/step - loss: 0.1836 - accuracy: 0.9263\n",
            "Epoch 45/300\n",
            "219/219 [==============================] - 0s 1ms/step - loss: 0.1798 - accuracy: 0.9251\n",
            "Epoch 46/300\n",
            "219/219 [==============================] - 0s 1ms/step - loss: 0.1881 - accuracy: 0.9242\n",
            "Epoch 47/300\n",
            "219/219 [==============================] - 0s 1ms/step - loss: 0.1922 - accuracy: 0.9236\n",
            "Epoch 48/300\n",
            "219/219 [==============================] - 0s 1ms/step - loss: 0.1811 - accuracy: 0.9234\n",
            "Epoch 49/300\n",
            "219/219 [==============================] - 0s 1ms/step - loss: 0.1859 - accuracy: 0.9268\n",
            "Epoch 50/300\n",
            "219/219 [==============================] - 0s 1ms/step - loss: 0.1816 - accuracy: 0.9275\n",
            "Epoch 51/300\n",
            "219/219 [==============================] - 0s 1ms/step - loss: 0.1781 - accuracy: 0.9302\n",
            "Epoch 52/300\n",
            "219/219 [==============================] - 0s 2ms/step - loss: 0.1726 - accuracy: 0.9262\n",
            "Epoch 53/300\n",
            "219/219 [==============================] - 0s 2ms/step - loss: 0.1727 - accuracy: 0.9310\n",
            "Epoch 54/300\n",
            "219/219 [==============================] - 0s 1ms/step - loss: 0.1758 - accuracy: 0.9324\n",
            "Epoch 55/300\n",
            "219/219 [==============================] - 0s 1ms/step - loss: 0.1922 - accuracy: 0.9221\n",
            "Epoch 56/300\n",
            "219/219 [==============================] - 0s 1ms/step - loss: 0.1764 - accuracy: 0.9269\n",
            "Epoch 57/300\n",
            "219/219 [==============================] - 0s 1ms/step - loss: 0.1703 - accuracy: 0.9254\n",
            "Epoch 58/300\n",
            "219/219 [==============================] - 0s 2ms/step - loss: 0.1848 - accuracy: 0.9251\n",
            "Epoch 59/300\n",
            "219/219 [==============================] - 0s 2ms/step - loss: 0.1852 - accuracy: 0.9245\n",
            "Epoch 60/300\n",
            "219/219 [==============================] - 0s 1ms/step - loss: 0.1785 - accuracy: 0.9300\n",
            "Epoch 61/300\n",
            "219/219 [==============================] - 0s 1ms/step - loss: 0.1778 - accuracy: 0.9271\n",
            "Epoch 62/300\n",
            "219/219 [==============================] - 0s 1ms/step - loss: 0.1817 - accuracy: 0.9253\n",
            "Epoch 63/300\n",
            "219/219 [==============================] - 0s 1ms/step - loss: 0.1815 - accuracy: 0.9257\n",
            "Epoch 64/300\n",
            "219/219 [==============================] - 0s 1ms/step - loss: 0.1792 - accuracy: 0.9279\n",
            "Epoch 65/300\n",
            "219/219 [==============================] - 0s 1ms/step - loss: 0.1828 - accuracy: 0.9261\n",
            "Epoch 66/300\n",
            "219/219 [==============================] - 0s 1ms/step - loss: 0.1848 - accuracy: 0.9278\n",
            "Epoch 67/300\n",
            "219/219 [==============================] - 0s 1ms/step - loss: 0.1773 - accuracy: 0.9246\n",
            "Epoch 68/300\n",
            "219/219 [==============================] - 0s 1ms/step - loss: 0.1808 - accuracy: 0.9269\n",
            "Epoch 69/300\n",
            "219/219 [==============================] - 0s 1ms/step - loss: 0.1823 - accuracy: 0.9292\n",
            "Epoch 70/300\n",
            "219/219 [==============================] - 0s 1ms/step - loss: 0.1734 - accuracy: 0.9314\n",
            "Epoch 71/300\n",
            "219/219 [==============================] - 0s 1ms/step - loss: 0.1861 - accuracy: 0.9274\n",
            "Epoch 72/300\n",
            "219/219 [==============================] - 0s 1ms/step - loss: 0.1775 - accuracy: 0.9293\n",
            "Epoch 73/300\n",
            "219/219 [==============================] - 0s 1ms/step - loss: 0.1857 - accuracy: 0.9268\n",
            "Epoch 74/300\n",
            "219/219 [==============================] - 0s 1ms/step - loss: 0.1769 - accuracy: 0.9291\n",
            "Epoch 75/300\n",
            "219/219 [==============================] - 0s 1ms/step - loss: 0.1762 - accuracy: 0.9283\n",
            "Epoch 76/300\n",
            "219/219 [==============================] - 0s 1ms/step - loss: 0.1767 - accuracy: 0.9307\n",
            "Epoch 77/300\n",
            "219/219 [==============================] - 0s 1ms/step - loss: 0.1727 - accuracy: 0.9323\n",
            "Epoch 78/300\n",
            "219/219 [==============================] - 0s 1ms/step - loss: 0.1836 - accuracy: 0.9284\n",
            "Epoch 79/300\n",
            "219/219 [==============================] - 0s 1ms/step - loss: 0.1710 - accuracy: 0.9312\n",
            "Epoch 80/300\n",
            "219/219 [==============================] - 0s 1ms/step - loss: 0.1715 - accuracy: 0.9297\n",
            "Epoch 81/300\n",
            "219/219 [==============================] - 0s 1ms/step - loss: 0.1851 - accuracy: 0.9243\n",
            "Epoch 82/300\n",
            "219/219 [==============================] - 0s 1ms/step - loss: 0.1783 - accuracy: 0.9256\n",
            "Epoch 83/300\n",
            "219/219 [==============================] - 0s 1ms/step - loss: 0.1810 - accuracy: 0.9257\n",
            "Epoch 84/300\n",
            "219/219 [==============================] - 0s 1ms/step - loss: 0.1850 - accuracy: 0.9310\n",
            "Epoch 85/300\n",
            "219/219 [==============================] - 0s 1ms/step - loss: 0.1670 - accuracy: 0.9340\n",
            "Epoch 86/300\n",
            "219/219 [==============================] - 0s 1ms/step - loss: 0.1674 - accuracy: 0.9357\n",
            "Epoch 87/300\n",
            "219/219 [==============================] - 0s 1ms/step - loss: 0.1761 - accuracy: 0.9283\n",
            "Epoch 88/300\n",
            "219/219 [==============================] - 0s 1ms/step - loss: 0.1722 - accuracy: 0.9309\n",
            "Epoch 89/300\n",
            "219/219 [==============================] - 0s 1ms/step - loss: 0.1792 - accuracy: 0.9269\n",
            "Epoch 90/300\n",
            "219/219 [==============================] - 0s 1ms/step - loss: 0.1895 - accuracy: 0.9219\n",
            "Epoch 91/300\n",
            "219/219 [==============================] - 0s 1ms/step - loss: 0.1820 - accuracy: 0.9265\n",
            "Epoch 92/300\n",
            "219/219 [==============================] - 0s 1ms/step - loss: 0.1812 - accuracy: 0.9240\n",
            "Epoch 93/300\n",
            "219/219 [==============================] - 0s 1ms/step - loss: 0.1713 - accuracy: 0.9282\n",
            "Epoch 94/300\n",
            "219/219 [==============================] - 0s 1ms/step - loss: 0.1843 - accuracy: 0.9254\n",
            "Epoch 95/300\n",
            "219/219 [==============================] - 0s 1ms/step - loss: 0.1858 - accuracy: 0.9240\n",
            "Epoch 96/300\n",
            "219/219 [==============================] - 0s 1ms/step - loss: 0.1874 - accuracy: 0.9267\n",
            "Epoch 97/300\n",
            "219/219 [==============================] - 0s 1ms/step - loss: 0.1858 - accuracy: 0.9251\n",
            "Epoch 98/300\n",
            "219/219 [==============================] - 0s 1ms/step - loss: 0.1754 - accuracy: 0.9283\n",
            "Epoch 99/300\n",
            "219/219 [==============================] - 0s 1ms/step - loss: 0.1724 - accuracy: 0.9283\n",
            "Epoch 100/300\n",
            "219/219 [==============================] - 0s 1ms/step - loss: 0.1969 - accuracy: 0.9197\n",
            "Epoch 101/300\n",
            "219/219 [==============================] - 0s 1ms/step - loss: 0.1809 - accuracy: 0.9281\n",
            "Epoch 102/300\n",
            "219/219 [==============================] - 0s 1ms/step - loss: 0.1638 - accuracy: 0.9343\n",
            "Epoch 103/300\n",
            "219/219 [==============================] - 0s 1ms/step - loss: 0.1748 - accuracy: 0.9310\n",
            "Epoch 104/300\n",
            "219/219 [==============================] - 0s 1ms/step - loss: 0.1762 - accuracy: 0.9274\n",
            "Epoch 105/300\n",
            "219/219 [==============================] - 0s 1ms/step - loss: 0.1752 - accuracy: 0.9261\n",
            "Epoch 106/300\n",
            "219/219 [==============================] - 0s 1ms/step - loss: 0.1790 - accuracy: 0.9233\n",
            "Epoch 107/300\n",
            "219/219 [==============================] - 0s 1ms/step - loss: 0.1873 - accuracy: 0.9251\n",
            "Epoch 108/300\n",
            "219/219 [==============================] - 0s 1ms/step - loss: 0.1805 - accuracy: 0.9277\n",
            "Epoch 109/300\n",
            "219/219 [==============================] - 0s 1ms/step - loss: 0.1704 - accuracy: 0.9309\n",
            "Epoch 110/300\n",
            "219/219 [==============================] - 0s 1ms/step - loss: 0.1792 - accuracy: 0.9277\n",
            "Epoch 111/300\n",
            "219/219 [==============================] - 0s 1ms/step - loss: 0.1799 - accuracy: 0.9296\n",
            "Epoch 112/300\n",
            "219/219 [==============================] - 0s 1ms/step - loss: 0.1765 - accuracy: 0.9297\n",
            "Epoch 113/300\n",
            "219/219 [==============================] - 0s 1ms/step - loss: 0.1738 - accuracy: 0.9312\n",
            "Epoch 114/300\n",
            "219/219 [==============================] - 0s 1ms/step - loss: 0.1795 - accuracy: 0.9290\n",
            "Epoch 115/300\n",
            "219/219 [==============================] - 0s 1ms/step - loss: 0.1877 - accuracy: 0.9200\n",
            "Epoch 116/300\n",
            "219/219 [==============================] - 0s 1ms/step - loss: 0.1849 - accuracy: 0.9277\n",
            "Epoch 117/300\n",
            "219/219 [==============================] - 0s 1ms/step - loss: 0.1828 - accuracy: 0.9267\n",
            "Epoch 118/300\n",
            "219/219 [==============================] - 0s 2ms/step - loss: 0.1769 - accuracy: 0.9281\n",
            "Epoch 119/300\n",
            "219/219 [==============================] - 0s 2ms/step - loss: 0.1914 - accuracy: 0.9179\n",
            "Epoch 120/300\n",
            "219/219 [==============================] - 0s 1ms/step - loss: 0.1829 - accuracy: 0.9247\n",
            "Epoch 121/300\n",
            "219/219 [==============================] - 0s 1ms/step - loss: 0.1720 - accuracy: 0.9334\n",
            "Epoch 122/300\n",
            "219/219 [==============================] - 0s 1ms/step - loss: 0.1806 - accuracy: 0.9272\n",
            "Epoch 123/300\n",
            "219/219 [==============================] - 0s 1ms/step - loss: 0.1760 - accuracy: 0.9273\n",
            "Epoch 124/300\n",
            "219/219 [==============================] - 0s 1ms/step - loss: 0.1809 - accuracy: 0.9301\n",
            "Epoch 125/300\n",
            "219/219 [==============================] - 0s 1ms/step - loss: 0.1773 - accuracy: 0.9283\n",
            "Epoch 126/300\n",
            "219/219 [==============================] - 0s 1ms/step - loss: 0.1871 - accuracy: 0.9242\n",
            "Epoch 127/300\n",
            "219/219 [==============================] - 0s 1ms/step - loss: 0.1806 - accuracy: 0.9273\n",
            "Epoch 128/300\n",
            "219/219 [==============================] - 0s 1ms/step - loss: 0.1827 - accuracy: 0.9246\n",
            "Epoch 129/300\n",
            "219/219 [==============================] - 0s 1ms/step - loss: 0.1792 - accuracy: 0.9281\n",
            "Epoch 130/300\n",
            "219/219 [==============================] - 0s 1ms/step - loss: 0.1721 - accuracy: 0.9316\n",
            "Epoch 131/300\n",
            "219/219 [==============================] - 0s 1ms/step - loss: 0.1797 - accuracy: 0.9287\n",
            "Epoch 132/300\n",
            "219/219 [==============================] - 0s 1ms/step - loss: 0.1710 - accuracy: 0.9301\n",
            "Epoch 133/300\n",
            "219/219 [==============================] - 0s 1ms/step - loss: 0.1803 - accuracy: 0.9279\n",
            "Epoch 134/300\n",
            "219/219 [==============================] - 0s 1ms/step - loss: 0.1874 - accuracy: 0.9278\n",
            "Epoch 135/300\n",
            "219/219 [==============================] - 0s 1ms/step - loss: 0.1796 - accuracy: 0.9276\n",
            "Epoch 136/300\n",
            "219/219 [==============================] - 0s 1ms/step - loss: 0.1792 - accuracy: 0.9248\n",
            "Epoch 137/300\n",
            "219/219 [==============================] - 0s 1ms/step - loss: 0.1841 - accuracy: 0.9290\n",
            "Epoch 138/300\n",
            "219/219 [==============================] - 0s 1ms/step - loss: 0.1778 - accuracy: 0.9269\n",
            "Epoch 139/300\n",
            "219/219 [==============================] - 0s 1ms/step - loss: 0.1829 - accuracy: 0.9258\n",
            "Epoch 140/300\n",
            "219/219 [==============================] - 0s 1ms/step - loss: 0.1831 - accuracy: 0.9260\n",
            "Epoch 141/300\n",
            "219/219 [==============================] - 0s 1ms/step - loss: 0.1761 - accuracy: 0.9301\n",
            "Epoch 142/300\n",
            "219/219 [==============================] - 0s 1ms/step - loss: 0.1743 - accuracy: 0.9293\n",
            "Epoch 143/300\n",
            "219/219 [==============================] - 0s 1ms/step - loss: 0.1771 - accuracy: 0.9271\n",
            "Epoch 144/300\n",
            "219/219 [==============================] - 0s 1ms/step - loss: 0.1809 - accuracy: 0.9224\n",
            "Epoch 145/300\n",
            "219/219 [==============================] - 0s 1ms/step - loss: 0.1739 - accuracy: 0.9284\n",
            "Epoch 146/300\n",
            "219/219 [==============================] - 0s 1ms/step - loss: 0.1812 - accuracy: 0.9277\n",
            "Epoch 147/300\n",
            "219/219 [==============================] - 0s 1ms/step - loss: 0.1845 - accuracy: 0.9261\n",
            "Epoch 148/300\n",
            "219/219 [==============================] - 0s 2ms/step - loss: 0.1799 - accuracy: 0.9308\n",
            "Epoch 149/300\n",
            "219/219 [==============================] - 0s 2ms/step - loss: 0.1823 - accuracy: 0.9267\n",
            "Epoch 150/300\n",
            "219/219 [==============================] - 0s 2ms/step - loss: 0.1794 - accuracy: 0.9271\n",
            "Epoch 151/300\n",
            "219/219 [==============================] - 0s 1ms/step - loss: 0.1770 - accuracy: 0.9306\n",
            "Epoch 152/300\n",
            "219/219 [==============================] - 0s 1ms/step - loss: 0.1851 - accuracy: 0.9270\n",
            "Epoch 153/300\n",
            "219/219 [==============================] - 0s 1ms/step - loss: 0.1947 - accuracy: 0.9236\n",
            "Epoch 154/300\n",
            "219/219 [==============================] - 0s 2ms/step - loss: 0.1907 - accuracy: 0.9245\n",
            "Epoch 155/300\n",
            "219/219 [==============================] - 0s 2ms/step - loss: 0.1819 - accuracy: 0.9270\n",
            "Epoch 156/300\n",
            "219/219 [==============================] - 0s 1ms/step - loss: 0.1870 - accuracy: 0.9249\n",
            "Epoch 157/300\n",
            "219/219 [==============================] - 0s 1ms/step - loss: 0.1811 - accuracy: 0.9265\n",
            "Epoch 158/300\n",
            "219/219 [==============================] - 0s 1ms/step - loss: 0.1765 - accuracy: 0.9305\n",
            "Epoch 159/300\n",
            "219/219 [==============================] - 0s 1ms/step - loss: 0.1705 - accuracy: 0.9334\n",
            "Epoch 160/300\n",
            "219/219 [==============================] - 0s 1ms/step - loss: 0.1755 - accuracy: 0.9284\n",
            "Epoch 161/300\n",
            "219/219 [==============================] - 0s 1ms/step - loss: 0.1838 - accuracy: 0.9246\n",
            "Epoch 162/300\n",
            "219/219 [==============================] - 0s 1ms/step - loss: 0.1863 - accuracy: 0.9218\n",
            "Epoch 163/300\n",
            "219/219 [==============================] - 0s 1ms/step - loss: 0.1817 - accuracy: 0.9227\n",
            "Epoch 164/300\n",
            "219/219 [==============================] - 0s 1ms/step - loss: 0.1691 - accuracy: 0.9323\n",
            "Epoch 165/300\n",
            "219/219 [==============================] - 0s 1ms/step - loss: 0.1863 - accuracy: 0.9236\n",
            "Epoch 166/300\n",
            "219/219 [==============================] - 0s 1ms/step - loss: 0.1871 - accuracy: 0.9228\n",
            "Epoch 167/300\n",
            "219/219 [==============================] - 0s 1ms/step - loss: 0.1787 - accuracy: 0.9315\n",
            "Epoch 168/300\n",
            "219/219 [==============================] - 0s 1ms/step - loss: 0.1802 - accuracy: 0.9265\n",
            "Epoch 169/300\n",
            "219/219 [==============================] - 0s 1ms/step - loss: 0.1799 - accuracy: 0.9266\n",
            "Epoch 170/300\n",
            "219/219 [==============================] - 0s 1ms/step - loss: 0.1912 - accuracy: 0.9196\n",
            "Epoch 171/300\n",
            "219/219 [==============================] - 0s 1ms/step - loss: 0.1650 - accuracy: 0.9335\n",
            "Epoch 172/300\n",
            "219/219 [==============================] - 0s 2ms/step - loss: 0.1819 - accuracy: 0.9289\n",
            "Epoch 173/300\n",
            "219/219 [==============================] - 0s 2ms/step - loss: 0.1832 - accuracy: 0.9253\n",
            "Epoch 174/300\n",
            "219/219 [==============================] - 0s 2ms/step - loss: 0.1779 - accuracy: 0.9307\n",
            "Epoch 175/300\n",
            "219/219 [==============================] - 0s 2ms/step - loss: 0.1811 - accuracy: 0.9262\n",
            "Epoch 176/300\n",
            "219/219 [==============================] - 0s 2ms/step - loss: 0.1696 - accuracy: 0.9335\n",
            "Epoch 177/300\n",
            "219/219 [==============================] - 0s 2ms/step - loss: 0.1747 - accuracy: 0.9320\n",
            "Epoch 178/300\n",
            "219/219 [==============================] - 0s 2ms/step - loss: 0.1784 - accuracy: 0.9251\n",
            "Epoch 179/300\n",
            "219/219 [==============================] - 0s 1ms/step - loss: 0.1723 - accuracy: 0.9332\n",
            "Epoch 180/300\n",
            "219/219 [==============================] - 0s 2ms/step - loss: 0.1781 - accuracy: 0.9290\n",
            "Epoch 181/300\n",
            "219/219 [==============================] - 0s 2ms/step - loss: 0.1709 - accuracy: 0.9328\n",
            "Epoch 182/300\n",
            "219/219 [==============================] - 0s 1ms/step - loss: 0.1713 - accuracy: 0.9320\n",
            "Epoch 183/300\n",
            "219/219 [==============================] - 0s 1ms/step - loss: 0.1688 - accuracy: 0.9340\n",
            "Epoch 184/300\n",
            "219/219 [==============================] - 0s 2ms/step - loss: 0.1746 - accuracy: 0.9281\n",
            "Epoch 185/300\n",
            "219/219 [==============================] - 0s 1ms/step - loss: 0.1756 - accuracy: 0.9308\n",
            "Epoch 186/300\n",
            "219/219 [==============================] - 0s 2ms/step - loss: 0.1709 - accuracy: 0.9305\n",
            "Epoch 187/300\n",
            "219/219 [==============================] - 0s 2ms/step - loss: 0.1789 - accuracy: 0.9278\n",
            "Epoch 188/300\n",
            "219/219 [==============================] - 0s 2ms/step - loss: 0.1779 - accuracy: 0.9302\n",
            "Epoch 189/300\n",
            "219/219 [==============================] - 0s 2ms/step - loss: 0.1818 - accuracy: 0.9295\n",
            "Epoch 190/300\n",
            "219/219 [==============================] - 0s 2ms/step - loss: 0.1854 - accuracy: 0.9221\n",
            "Epoch 191/300\n",
            "219/219 [==============================] - 0s 2ms/step - loss: 0.1791 - accuracy: 0.9283\n",
            "Epoch 192/300\n",
            "219/219 [==============================] - 0s 2ms/step - loss: 0.1683 - accuracy: 0.9323\n",
            "Epoch 193/300\n",
            "219/219 [==============================] - 0s 2ms/step - loss: 0.1772 - accuracy: 0.9265\n",
            "Epoch 194/300\n",
            "219/219 [==============================] - 0s 2ms/step - loss: 0.1800 - accuracy: 0.9294\n",
            "Epoch 195/300\n",
            "219/219 [==============================] - 0s 2ms/step - loss: 0.1835 - accuracy: 0.9277\n",
            "Epoch 196/300\n",
            "219/219 [==============================] - 0s 2ms/step - loss: 0.1863 - accuracy: 0.9275\n",
            "Epoch 197/300\n",
            "219/219 [==============================] - 0s 2ms/step - loss: 0.1855 - accuracy: 0.9295\n",
            "Epoch 198/300\n",
            "219/219 [==============================] - 0s 2ms/step - loss: 0.1669 - accuracy: 0.9340\n",
            "Epoch 199/300\n",
            "219/219 [==============================] - 0s 2ms/step - loss: 0.1637 - accuracy: 0.9345\n",
            "Epoch 200/300\n",
            "219/219 [==============================] - 0s 2ms/step - loss: 0.1824 - accuracy: 0.9285\n",
            "Epoch 201/300\n",
            "219/219 [==============================] - 0s 1ms/step - loss: 0.1716 - accuracy: 0.9322\n",
            "Epoch 202/300\n",
            "219/219 [==============================] - 0s 1ms/step - loss: 0.1726 - accuracy: 0.9300\n",
            "Epoch 203/300\n",
            "219/219 [==============================] - 0s 1ms/step - loss: 0.1733 - accuracy: 0.9280\n",
            "Epoch 204/300\n",
            "219/219 [==============================] - 0s 1ms/step - loss: 0.1755 - accuracy: 0.9295\n",
            "Epoch 205/300\n",
            "219/219 [==============================] - 0s 1ms/step - loss: 0.1857 - accuracy: 0.9233\n",
            "Epoch 206/300\n",
            "219/219 [==============================] - 0s 1ms/step - loss: 0.1767 - accuracy: 0.9290\n",
            "Epoch 207/300\n",
            "219/219 [==============================] - 0s 1ms/step - loss: 0.1802 - accuracy: 0.9313\n",
            "Epoch 208/300\n",
            "219/219 [==============================] - 0s 1ms/step - loss: 0.1880 - accuracy: 0.9230\n",
            "Epoch 209/300\n",
            "219/219 [==============================] - 0s 1ms/step - loss: 0.1746 - accuracy: 0.9290\n",
            "Epoch 210/300\n",
            "219/219 [==============================] - 0s 1ms/step - loss: 0.1786 - accuracy: 0.9270\n",
            "Epoch 211/300\n",
            "219/219 [==============================] - 0s 1ms/step - loss: 0.1884 - accuracy: 0.9267\n",
            "Epoch 212/300\n",
            "219/219 [==============================] - 0s 1ms/step - loss: 0.1824 - accuracy: 0.9283\n",
            "Epoch 213/300\n",
            "219/219 [==============================] - 0s 1ms/step - loss: 0.1779 - accuracy: 0.9302\n",
            "Epoch 214/300\n",
            "219/219 [==============================] - 0s 2ms/step - loss: 0.1696 - accuracy: 0.9306\n",
            "Epoch 215/300\n",
            "219/219 [==============================] - 0s 2ms/step - loss: 0.1803 - accuracy: 0.9302\n",
            "Epoch 216/300\n",
            "219/219 [==============================] - 0s 2ms/step - loss: 0.1879 - accuracy: 0.9219\n",
            "Epoch 217/300\n",
            "219/219 [==============================] - 0s 1ms/step - loss: 0.1762 - accuracy: 0.9337\n",
            "Epoch 218/300\n",
            "219/219 [==============================] - 0s 1ms/step - loss: 0.1754 - accuracy: 0.9278\n",
            "Epoch 219/300\n",
            "219/219 [==============================] - 0s 1ms/step - loss: 0.1787 - accuracy: 0.9243\n",
            "Epoch 220/300\n",
            "219/219 [==============================] - 0s 2ms/step - loss: 0.1815 - accuracy: 0.9279\n",
            "Epoch 221/300\n",
            "219/219 [==============================] - 0s 2ms/step - loss: 0.1763 - accuracy: 0.9282\n",
            "Epoch 222/300\n",
            "219/219 [==============================] - 0s 2ms/step - loss: 0.1801 - accuracy: 0.9277\n",
            "Epoch 223/300\n",
            "219/219 [==============================] - 0s 1ms/step - loss: 0.1872 - accuracy: 0.9259\n",
            "Epoch 224/300\n",
            "219/219 [==============================] - 0s 1ms/step - loss: 0.1684 - accuracy: 0.9340\n",
            "Epoch 225/300\n",
            "219/219 [==============================] - 0s 1ms/step - loss: 0.1811 - accuracy: 0.9227\n",
            "Epoch 226/300\n",
            "219/219 [==============================] - 0s 1ms/step - loss: 0.1801 - accuracy: 0.9275\n",
            "Epoch 227/300\n",
            "219/219 [==============================] - 0s 1ms/step - loss: 0.1847 - accuracy: 0.9231\n",
            "Epoch 228/300\n",
            "219/219 [==============================] - 0s 1ms/step - loss: 0.1695 - accuracy: 0.9328\n",
            "Epoch 229/300\n",
            "219/219 [==============================] - 0s 2ms/step - loss: 0.1836 - accuracy: 0.9310\n",
            "Epoch 230/300\n",
            "219/219 [==============================] - 0s 1ms/step - loss: 0.1840 - accuracy: 0.9233\n",
            "Epoch 231/300\n",
            "219/219 [==============================] - 0s 1ms/step - loss: 0.1768 - accuracy: 0.9246\n",
            "Epoch 232/300\n",
            "219/219 [==============================] - 0s 1ms/step - loss: 0.1680 - accuracy: 0.9329\n",
            "Epoch 233/300\n",
            "219/219 [==============================] - 0s 1ms/step - loss: 0.1728 - accuracy: 0.9301\n",
            "Epoch 234/300\n",
            "219/219 [==============================] - 0s 1ms/step - loss: 0.1731 - accuracy: 0.9342\n",
            "Epoch 235/300\n",
            "219/219 [==============================] - 0s 1ms/step - loss: 0.1769 - accuracy: 0.9288\n",
            "Epoch 236/300\n",
            "219/219 [==============================] - 0s 1ms/step - loss: 0.1723 - accuracy: 0.9322\n",
            "Epoch 237/300\n",
            "219/219 [==============================] - 0s 1ms/step - loss: 0.1803 - accuracy: 0.9274\n",
            "Epoch 238/300\n",
            "219/219 [==============================] - 0s 1ms/step - loss: 0.1857 - accuracy: 0.9217\n",
            "Epoch 239/300\n",
            "219/219 [==============================] - 0s 1ms/step - loss: 0.1833 - accuracy: 0.9245\n",
            "Epoch 240/300\n",
            "219/219 [==============================] - 0s 1ms/step - loss: 0.1718 - accuracy: 0.9323\n",
            "Epoch 241/300\n",
            "219/219 [==============================] - 0s 1ms/step - loss: 0.1732 - accuracy: 0.9326\n",
            "Epoch 242/300\n",
            "219/219 [==============================] - 0s 1ms/step - loss: 0.1688 - accuracy: 0.9343\n",
            "Epoch 243/300\n",
            "219/219 [==============================] - 0s 1ms/step - loss: 0.1713 - accuracy: 0.9285\n",
            "Epoch 244/300\n",
            "219/219 [==============================] - 0s 1ms/step - loss: 0.1691 - accuracy: 0.9322\n",
            "Epoch 245/300\n",
            "219/219 [==============================] - 0s 1ms/step - loss: 0.1803 - accuracy: 0.9261\n",
            "Epoch 246/300\n",
            "219/219 [==============================] - 0s 1ms/step - loss: 0.1852 - accuracy: 0.9242\n",
            "Epoch 247/300\n",
            "219/219 [==============================] - 0s 1ms/step - loss: 0.1783 - accuracy: 0.9279\n",
            "Epoch 248/300\n",
            "219/219 [==============================] - 0s 1ms/step - loss: 0.1760 - accuracy: 0.9307\n",
            "Epoch 249/300\n",
            "219/219 [==============================] - 0s 1ms/step - loss: 0.1775 - accuracy: 0.9255\n",
            "Epoch 250/300\n",
            "219/219 [==============================] - 0s 1ms/step - loss: 0.1678 - accuracy: 0.9335\n",
            "Epoch 251/300\n",
            "219/219 [==============================] - 0s 1ms/step - loss: 0.1695 - accuracy: 0.9327\n",
            "Epoch 252/300\n",
            "219/219 [==============================] - 0s 1ms/step - loss: 0.1658 - accuracy: 0.9342\n",
            "Epoch 253/300\n",
            "219/219 [==============================] - 0s 1ms/step - loss: 0.1836 - accuracy: 0.9250\n",
            "Epoch 254/300\n",
            "219/219 [==============================] - 0s 1ms/step - loss: 0.1727 - accuracy: 0.9264\n",
            "Epoch 255/300\n",
            "219/219 [==============================] - 0s 1ms/step - loss: 0.1759 - accuracy: 0.9327\n",
            "Epoch 256/300\n",
            "219/219 [==============================] - 0s 1ms/step - loss: 0.1713 - accuracy: 0.9300\n",
            "Epoch 257/300\n",
            "219/219 [==============================] - 0s 2ms/step - loss: 0.1698 - accuracy: 0.9323\n",
            "Epoch 258/300\n",
            "219/219 [==============================] - 0s 2ms/step - loss: 0.1747 - accuracy: 0.9302\n",
            "Epoch 259/300\n",
            "219/219 [==============================] - 0s 2ms/step - loss: 0.1782 - accuracy: 0.9281\n",
            "Epoch 260/300\n",
            "219/219 [==============================] - 0s 2ms/step - loss: 0.1765 - accuracy: 0.9289\n",
            "Epoch 261/300\n",
            "219/219 [==============================] - 0s 2ms/step - loss: 0.1711 - accuracy: 0.9329\n",
            "Epoch 262/300\n",
            "219/219 [==============================] - 0s 2ms/step - loss: 0.1794 - accuracy: 0.9251\n",
            "Epoch 263/300\n",
            "219/219 [==============================] - 0s 1ms/step - loss: 0.1838 - accuracy: 0.9230\n",
            "Epoch 264/300\n",
            "219/219 [==============================] - 0s 1ms/step - loss: 0.1781 - accuracy: 0.9308\n",
            "Epoch 265/300\n",
            "219/219 [==============================] - 0s 1ms/step - loss: 0.1853 - accuracy: 0.9262\n",
            "Epoch 266/300\n",
            "219/219 [==============================] - 0s 2ms/step - loss: 0.1739 - accuracy: 0.9293\n",
            "Epoch 267/300\n",
            "219/219 [==============================] - 0s 2ms/step - loss: 0.1818 - accuracy: 0.9278\n",
            "Epoch 268/300\n",
            "219/219 [==============================] - 0s 2ms/step - loss: 0.1768 - accuracy: 0.9300\n",
            "Epoch 269/300\n",
            "219/219 [==============================] - 0s 2ms/step - loss: 0.1834 - accuracy: 0.9248\n",
            "Epoch 270/300\n",
            "219/219 [==============================] - 0s 2ms/step - loss: 0.1806 - accuracy: 0.9283\n",
            "Epoch 271/300\n",
            "219/219 [==============================] - 0s 2ms/step - loss: 0.1677 - accuracy: 0.9311\n",
            "Epoch 272/300\n",
            "219/219 [==============================] - 0s 2ms/step - loss: 0.1751 - accuracy: 0.9299\n",
            "Epoch 273/300\n",
            "219/219 [==============================] - 0s 2ms/step - loss: 0.1670 - accuracy: 0.9315\n",
            "Epoch 274/300\n",
            "219/219 [==============================] - 0s 1ms/step - loss: 0.1713 - accuracy: 0.9290\n",
            "Epoch 275/300\n",
            "219/219 [==============================] - 0s 1ms/step - loss: 0.1744 - accuracy: 0.9319\n",
            "Epoch 276/300\n",
            "219/219 [==============================] - 0s 1ms/step - loss: 0.1737 - accuracy: 0.9296\n",
            "Epoch 277/300\n",
            "219/219 [==============================] - 0s 2ms/step - loss: 0.1755 - accuracy: 0.9256\n",
            "Epoch 278/300\n",
            "219/219 [==============================] - 0s 2ms/step - loss: 0.1799 - accuracy: 0.9268\n",
            "Epoch 279/300\n",
            "219/219 [==============================] - 0s 2ms/step - loss: 0.1859 - accuracy: 0.9206\n",
            "Epoch 280/300\n",
            "219/219 [==============================] - 0s 2ms/step - loss: 0.1729 - accuracy: 0.9323\n",
            "Epoch 281/300\n",
            "219/219 [==============================] - 0s 2ms/step - loss: 0.1794 - accuracy: 0.9258\n",
            "Epoch 282/300\n",
            "219/219 [==============================] - 0s 2ms/step - loss: 0.1817 - accuracy: 0.9248\n",
            "Epoch 283/300\n",
            "219/219 [==============================] - 0s 2ms/step - loss: 0.1770 - accuracy: 0.9289\n",
            "Epoch 284/300\n",
            "219/219 [==============================] - 0s 2ms/step - loss: 0.1858 - accuracy: 0.9279\n",
            "Epoch 285/300\n",
            "219/219 [==============================] - 0s 1ms/step - loss: 0.1746 - accuracy: 0.9296\n",
            "Epoch 286/300\n",
            "219/219 [==============================] - 0s 1ms/step - loss: 0.1678 - accuracy: 0.9315\n",
            "Epoch 287/300\n",
            "219/219 [==============================] - 0s 2ms/step - loss: 0.1677 - accuracy: 0.9334\n",
            "Epoch 288/300\n",
            "219/219 [==============================] - 0s 2ms/step - loss: 0.1743 - accuracy: 0.9314\n",
            "Epoch 289/300\n",
            "219/219 [==============================] - 1s 2ms/step - loss: 0.1811 - accuracy: 0.9260\n",
            "Epoch 290/300\n",
            "219/219 [==============================] - 0s 2ms/step - loss: 0.1731 - accuracy: 0.9324\n",
            "Epoch 291/300\n",
            "219/219 [==============================] - 0s 1ms/step - loss: 0.1882 - accuracy: 0.9247\n",
            "Epoch 292/300\n",
            "219/219 [==============================] - 0s 1ms/step - loss: 0.1714 - accuracy: 0.9278\n",
            "Epoch 293/300\n",
            "219/219 [==============================] - 0s 1ms/step - loss: 0.1774 - accuracy: 0.9250\n",
            "Epoch 294/300\n",
            "219/219 [==============================] - 0s 1ms/step - loss: 0.1745 - accuracy: 0.9331\n",
            "Epoch 295/300\n",
            "219/219 [==============================] - 0s 1ms/step - loss: 0.1768 - accuracy: 0.9272\n",
            "Epoch 296/300\n",
            "219/219 [==============================] - 0s 1ms/step - loss: 0.1733 - accuracy: 0.9311\n",
            "Epoch 297/300\n",
            "219/219 [==============================] - 0s 1ms/step - loss: 0.1641 - accuracy: 0.9360\n",
            "Epoch 298/300\n",
            "219/219 [==============================] - 0s 1ms/step - loss: 0.1844 - accuracy: 0.9245\n",
            "Epoch 299/300\n",
            "219/219 [==============================] - 0s 1ms/step - loss: 0.1850 - accuracy: 0.9266\n",
            "Epoch 300/300\n",
            "219/219 [==============================] - 0s 1ms/step - loss: 0.1801 - accuracy: 0.9266\n"
          ],
          "name": "stdout"
        },
        {
          "output_type": "execute_result",
          "data": {
            "text/plain": [
              "<keras.callbacks.History at 0x7f1e5078bbd0>"
            ]
          },
          "metadata": {
            "tags": []
          },
          "execution_count": 15
        }
      ]
    },
    {
      "cell_type": "code",
      "metadata": {
        "colab": {
          "base_uri": "https://localhost:8080/"
        },
        "id": "McAVFFnbf-90",
        "outputId": "9ca81766-4e08-424b-889f-91bf7c1bd101"
      },
      "source": [
        "model.evaluate(X_test, Y_test)\n",
        "# Elemen pertama adalah loss dan elemen kedua adalah akurasi"
      ],
      "execution_count": 16,
      "outputs": [
        {
          "output_type": "stream",
          "text": [
            "94/94 [==============================] - 1s 1ms/step - loss: 0.1668 - accuracy: 0.9290\n"
          ],
          "name": "stdout"
        },
        {
          "output_type": "execute_result",
          "data": {
            "text/plain": [
              "[0.16682958602905273, 0.9290000200271606]"
            ]
          },
          "metadata": {
            "tags": []
          },
          "execution_count": 16
        }
      ]
    }
  ]
}